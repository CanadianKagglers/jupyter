{
 "cells": [
  {
   "cell_type": "markdown",
   "metadata": {},
   "source": [
    " # Data Challenge Workshop: \u000b",
    "Classification of business-related News Articles"
   ]
  },
  {
   "cell_type": "code",
   "execution_count": 67,
   "metadata": {},
   "outputs": [],
   "source": [
    "from numpy.random import seed\n",
    "import numpy as np\n",
    "import pandas as pd\n",
    "\n",
    "import matplotlib.pyplot as plt\n",
    "import matplotlib\n",
    "\n",
    "from sklearn.model_selection import train_test_split\n",
    "from sklearn.feature_extraction.text import TfidfVectorizer\n",
    "from sklearn.metrics import precision_recall_fscore_support\n",
    "from sklearn.svm import SVC\n",
    "from sklearn.linear_model import LogisticRegression\n",
    "from sklearn.metrics import confusion_matrix,classification_report\n",
    "from sklearn.grid_search import GridSearchCV"
   ]
  },
  {
   "cell_type": "code",
   "execution_count": 68,
   "metadata": {},
   "outputs": [],
   "source": [
    "font = {'family' : 'normal',\n",
    "        'weight' : 'bold',\n",
    "        'size'   : 22}\n",
    "matplotlib.rc('font', **font)"
   ]
  },
  {
   "cell_type": "markdown",
   "metadata": {},
   "source": [
    "#### Ensure reproducability"
   ]
  },
  {
   "cell_type": "code",
   "execution_count": 69,
   "metadata": {},
   "outputs": [],
   "source": [
    "seed(1)"
   ]
  },
  {
   "cell_type": "markdown",
   "metadata": {},
   "source": [
    "### A) Data Exploration"
   ]
  },
  {
   "cell_type": "code",
   "execution_count": 70,
   "metadata": {},
   "outputs": [],
   "source": [
    "df=pd.read_csv('jacobs_corpus_body_labeled.csv')"
   ]
  },
  {
   "cell_type": "code",
   "execution_count": 71,
   "metadata": {},
   "outputs": [
    {
     "data": {
      "text/plain": [
       "(497, 16)"
      ]
     },
     "execution_count": 71,
     "metadata": {},
     "output_type": "execute_result"
    }
   ],
   "source": [
    "df.shape"
   ]
  },
  {
   "cell_type": "markdown",
   "metadata": {},
   "source": [
    "#### Understand your data"
   ]
  },
  {
   "cell_type": "code",
   "execution_count": 72,
   "metadata": {},
   "outputs": [
    {
     "data": {
      "text/html": [
       "<div>\n",
       "<style scoped>\n",
       "    .dataframe tbody tr th:only-of-type {\n",
       "        vertical-align: middle;\n",
       "    }\n",
       "\n",
       "    .dataframe tbody tr th {\n",
       "        vertical-align: top;\n",
       "    }\n",
       "\n",
       "    .dataframe thead th {\n",
       "        text-align: right;\n",
       "    }\n",
       "</style>\n",
       "<table border=\"1\" class=\"dataframe\">\n",
       "  <thead>\n",
       "    <tr style=\"text-align: right;\">\n",
       "      <th></th>\n",
       "      <th>date</th>\n",
       "      <th>file_id</th>\n",
       "      <th>text</th>\n",
       "      <th>title</th>\n",
       "      <th>labels</th>\n",
       "      <th>-1</th>\n",
       "      <th>Profit</th>\n",
       "      <th>Dividend</th>\n",
       "      <th>MergerAcquisition</th>\n",
       "      <th>SalesVolume</th>\n",
       "      <th>BuyRating</th>\n",
       "      <th>QuarterlyResults</th>\n",
       "      <th>TargetPrice</th>\n",
       "      <th>ShareRepurchase</th>\n",
       "      <th>Turnover</th>\n",
       "      <th>Debt</th>\n",
       "    </tr>\n",
       "  </thead>\n",
       "  <tbody>\n",
       "    <tr>\n",
       "      <th>0</th>\n",
       "      <td>22-11-2005</td>\n",
       "      <td>1</td>\n",
       "      <td>Absa reports solid growth with Barclays in con...</td>\n",
       "      <td>absa reports solid growth with barclays in con...</td>\n",
       "      <td>['MergerAcquisition', 'MergerAcquisition', 'Sa...</td>\n",
       "      <td>0</td>\n",
       "      <td>1</td>\n",
       "      <td>1</td>\n",
       "      <td>1</td>\n",
       "      <td>1</td>\n",
       "      <td>0</td>\n",
       "      <td>0</td>\n",
       "      <td>0</td>\n",
       "      <td>0</td>\n",
       "      <td>0</td>\n",
       "      <td>0</td>\n",
       "    </tr>\n",
       "    <tr>\n",
       "      <th>1</th>\n",
       "      <td>2-10-2013</td>\n",
       "      <td>3</td>\n",
       "      <td>Aggreko falls to two-year low following Unilev...</td>\n",
       "      <td>aggreko falls to two-year low following unilev...</td>\n",
       "      <td>['BuyRating', 'Profit', 'BuyRating', 'Profit']</td>\n",
       "      <td>0</td>\n",
       "      <td>1</td>\n",
       "      <td>0</td>\n",
       "      <td>0</td>\n",
       "      <td>0</td>\n",
       "      <td>1</td>\n",
       "      <td>0</td>\n",
       "      <td>0</td>\n",
       "      <td>0</td>\n",
       "      <td>0</td>\n",
       "      <td>0</td>\n",
       "    </tr>\n",
       "  </tbody>\n",
       "</table>\n",
       "</div>"
      ],
      "text/plain": [
       "         date  file_id                                               text  \\\n",
       "0  22-11-2005        1  Absa reports solid growth with Barclays in con...   \n",
       "1   2-10-2013        3  Aggreko falls to two-year low following Unilev...   \n",
       "\n",
       "                                               title  \\\n",
       "0  absa reports solid growth with barclays in con...   \n",
       "1  aggreko falls to two-year low following unilev...   \n",
       "\n",
       "                                              labels  -1  Profit  Dividend  \\\n",
       "0  ['MergerAcquisition', 'MergerAcquisition', 'Sa...   0       1         1   \n",
       "1     ['BuyRating', 'Profit', 'BuyRating', 'Profit']   0       1         0   \n",
       "\n",
       "   MergerAcquisition  SalesVolume  BuyRating  QuarterlyResults  TargetPrice  \\\n",
       "0                  1            1          0                 0            0   \n",
       "1                  0            0          1                 0            0   \n",
       "\n",
       "   ShareRepurchase  Turnover  Debt  \n",
       "0                0         0     0  \n",
       "1                0         0     0  "
      ]
     },
     "execution_count": 72,
     "metadata": {},
     "output_type": "execute_result"
    }
   ],
   "source": [
    "df.head(2)"
   ]
  },
  {
   "cell_type": "code",
   "execution_count": 73,
   "metadata": {},
   "outputs": [],
   "source": [
    "multi_labels = ['-1',\n",
    "       'Profit', 'Dividend', 'MergerAcquisition', 'SalesVolume', 'BuyRating',\n",
    "       'QuarterlyResults', 'TargetPrice', 'ShareRepurchase', 'Turnover',\n",
    "       'Debt']"
   ]
  },
  {
   "cell_type": "code",
   "execution_count": 74,
   "metadata": {},
   "outputs": [
    {
     "data": {
      "text/html": [
       "<div>\n",
       "<style scoped>\n",
       "    .dataframe tbody tr th:only-of-type {\n",
       "        vertical-align: middle;\n",
       "    }\n",
       "\n",
       "    .dataframe tbody tr th {\n",
       "        vertical-align: top;\n",
       "    }\n",
       "\n",
       "    .dataframe thead th {\n",
       "        text-align: right;\n",
       "    }\n",
       "</style>\n",
       "<table border=\"1\" class=\"dataframe\">\n",
       "  <thead>\n",
       "    <tr style=\"text-align: right;\">\n",
       "      <th></th>\n",
       "      <th>-1</th>\n",
       "      <th>Profit</th>\n",
       "      <th>Dividend</th>\n",
       "      <th>MergerAcquisition</th>\n",
       "      <th>SalesVolume</th>\n",
       "      <th>BuyRating</th>\n",
       "      <th>QuarterlyResults</th>\n",
       "      <th>TargetPrice</th>\n",
       "      <th>ShareRepurchase</th>\n",
       "      <th>Turnover</th>\n",
       "      <th>Debt</th>\n",
       "    </tr>\n",
       "  </thead>\n",
       "  <tbody>\n",
       "    <tr>\n",
       "      <th>0</th>\n",
       "      <td>441</td>\n",
       "      <td>217</td>\n",
       "      <td>386</td>\n",
       "      <td>357</td>\n",
       "      <td>311</td>\n",
       "      <td>399</td>\n",
       "      <td>347</td>\n",
       "      <td>438</td>\n",
       "      <td>450</td>\n",
       "      <td>376</td>\n",
       "      <td>446</td>\n",
       "    </tr>\n",
       "    <tr>\n",
       "      <th>1</th>\n",
       "      <td>56</td>\n",
       "      <td>280</td>\n",
       "      <td>111</td>\n",
       "      <td>140</td>\n",
       "      <td>186</td>\n",
       "      <td>98</td>\n",
       "      <td>150</td>\n",
       "      <td>59</td>\n",
       "      <td>47</td>\n",
       "      <td>121</td>\n",
       "      <td>51</td>\n",
       "    </tr>\n",
       "  </tbody>\n",
       "</table>\n",
       "</div>"
      ],
      "text/plain": [
       "    -1  Profit  Dividend  MergerAcquisition  SalesVolume  BuyRating  \\\n",
       "0  441     217       386                357          311        399   \n",
       "1   56     280       111                140          186         98   \n",
       "\n",
       "   QuarterlyResults  TargetPrice  ShareRepurchase  Turnover  Debt  \n",
       "0               347          438              450       376   446  \n",
       "1               150           59               47       121    51  "
      ]
     },
     "execution_count": 74,
     "metadata": {},
     "output_type": "execute_result"
    }
   ],
   "source": [
    "df[multi_labels].apply(pd.Series.value_counts)"
   ]
  },
  {
   "cell_type": "code",
   "execution_count": 75,
   "metadata": {},
   "outputs": [],
   "source": [
    "X = df['text']"
   ]
  },
  {
   "cell_type": "code",
   "execution_count": 76,
   "metadata": {},
   "outputs": [],
   "source": [
    "y = df['MergerAcquisition']"
   ]
  },
  {
   "cell_type": "markdown",
   "metadata": {},
   "source": [
    "####  Data set not balanced!"
   ]
  },
  {
   "cell_type": "code",
   "execution_count": 77,
   "metadata": {},
   "outputs": [
    {
     "data": {
      "text/plain": [
       "((497,), (497,))"
      ]
     },
     "execution_count": 77,
     "metadata": {},
     "output_type": "execute_result"
    }
   ],
   "source": [
    "X.shape,y.shape"
   ]
  },
  {
   "cell_type": "markdown",
   "metadata": {},
   "source": [
    "#### Split in training and test set"
   ]
  },
  {
   "cell_type": "code",
   "execution_count": 78,
   "metadata": {},
   "outputs": [],
   "source": [
    "X_train, X_test, y_train, y_test,df_train,df_test = train_test_split(X, y, df,test_size=0.33, random_state=42)"
   ]
  },
  {
   "cell_type": "markdown",
   "metadata": {},
   "source": [
    "### B) Designing features"
   ]
  },
  {
   "cell_type": "code",
   "execution_count": 79,
   "metadata": {},
   "outputs": [],
   "source": [
    "def tokenizer(text):\n",
    "    tokens = text.split(' ')\n",
    "    return tokens"
   ]
  },
  {
   "cell_type": "code",
   "execution_count": 80,
   "metadata": {},
   "outputs": [],
   "source": [
    "tfidf = TfidfVectorizer(tokenizer=tokenizer,ngram_range=(1,3),analyzer='word',max_features=1000)"
   ]
  },
  {
   "cell_type": "code",
   "execution_count": 81,
   "metadata": {},
   "outputs": [],
   "source": [
    "X_train_bow = tfidf.fit_transform(X_train)"
   ]
  },
  {
   "cell_type": "code",
   "execution_count": 82,
   "metadata": {},
   "outputs": [
    {
     "data": {
      "text/plain": [
       "(332, 1000)"
      ]
     },
     "execution_count": 82,
     "metadata": {},
     "output_type": "execute_result"
    }
   ],
   "source": [
    "X_train_bow.shape"
   ]
  },
  {
   "cell_type": "code",
   "execution_count": 83,
   "metadata": {},
   "outputs": [],
   "source": [
    "feature_names = np.array(tfidf.get_feature_names())"
   ]
  },
  {
   "cell_type": "code",
   "execution_count": 84,
   "metadata": {},
   "outputs": [
    {
     "data": {
      "text/plain": [
       "array(['', ' \"', ' the', '\"', '\" ,', '\" .', '\" buy', '\" buy \"', '\" he',\n",
       "       '\" he said'], dtype='<U22')"
      ]
     },
     "execution_count": 84,
     "metadata": {},
     "output_type": "execute_result"
    }
   ],
   "source": [
    "feature_names[:10]"
   ]
  },
  {
   "cell_type": "markdown",
   "metadata": {},
   "source": [
    "Careful, high-dimensional data! Feature dimension p larger than number of data points n: linear modeles are prefered"
   ]
  },
  {
   "cell_type": "markdown",
   "metadata": {},
   "source": [
    "### C) Model Training "
   ]
  },
  {
   "cell_type": "markdown",
   "metadata": {},
   "source": [
    "\\begin{align*}\n",
    "&\\hat{y} = w[0] x[0] + w[1] x[1] + \\dotsc + w[p] * x[p] + b > 0 &\\text{weights w$_i$}\n",
    "\\end{align*}"
   ]
  },
  {
   "cell_type": "code",
   "execution_count": 85,
   "metadata": {},
   "outputs": [],
   "source": [
    "lr = LogisticRegression(penalty='l2',C=1.0)"
   ]
  },
  {
   "cell_type": "code",
   "execution_count": 86,
   "metadata": {},
   "outputs": [],
   "source": [
    "lr_model = lr.fit(X_train_bow, y_train)"
   ]
  },
  {
   "cell_type": "markdown",
   "metadata": {},
   "source": [
    "Check performance on training set!"
   ]
  },
  {
   "cell_type": "markdown",
   "metadata": {},
   "source": [
    "### D) Model Evaluation"
   ]
  },
  {
   "cell_type": "markdown",
   "metadata": {},
   "source": [
    "#### Check performance on independent test set"
   ]
  },
  {
   "cell_type": "code",
   "execution_count": 87,
   "metadata": {},
   "outputs": [],
   "source": [
    "X_test_bow = tfidf.transform(X_test)"
   ]
  },
  {
   "cell_type": "code",
   "execution_count": 88,
   "metadata": {},
   "outputs": [],
   "source": [
    "y_test_pred_lin = lr_model.predict(X_test_bow)"
   ]
  },
  {
   "cell_type": "code",
   "execution_count": 89,
   "metadata": {},
   "outputs": [
    {
     "name": "stdout",
     "output_type": "stream",
     "text": [
      "                     precision    recall  f1-score   support\n",
      "\n",
      "          No Merger       0.69      0.99      0.81       113\n",
      "Merger&Acquisitions       0.67      0.04      0.07        52\n",
      "\n",
      "        avg / total       0.68      0.69      0.58       165\n",
      "\n"
     ]
    }
   ],
   "source": [
    "print(classification_report(y_test,y_test_pred_lin,target_names=['No Merger','Merger&Acquisitions']))"
   ]
  },
  {
   "cell_type": "code",
   "execution_count": 90,
   "metadata": {},
   "outputs": [
    {
     "data": {
      "text/plain": [
       "(array([0.69135802, 0.66666667]),\n",
       " array([0.99115044, 0.03846154]),\n",
       " array([0.81454545, 0.07272727]),\n",
       " array([113,  52]))"
      ]
     },
     "execution_count": 90,
     "metadata": {},
     "output_type": "execute_result"
    }
   ],
   "source": [
    "precision_recall_fscore_support(y_test,y_test_pred_lin)"
   ]
  },
  {
   "cell_type": "markdown",
   "metadata": {},
   "source": [
    "#### Understand your model weights"
   ]
  },
  {
   "cell_type": "code",
   "execution_count": 91,
   "metadata": {},
   "outputs": [
    {
     "data": {
      "text/plain": [
       "Text(0, 0.5, 'weights w$_i$')"
      ]
     },
     "execution_count": 91,
     "metadata": {},
     "output_type": "execute_result"
    },
    {
     "data": {
      "image/png": "[encoded data removed]",
      "text/plain": [
       "<Figure size 576x576 with 1 Axes>"
      ]
     },
     "metadata": {
      "needs_background": "light"
     },
     "output_type": "display_data"
    }
   ],
   "source": [
    "plt.figure(figsize=[8,8])\n",
    "ax=plt.gca()\n",
    "top_features=10\n",
    "coef = lr_model.coef_[0,:].flatten()\n",
    "class1_coef = np.argsort(coef)[-top_features:]\n",
    "class2_coef = np.argsort(coef)[:top_features]\n",
    "combine_coef = np.hstack([class1_coef,class2_coef])\n",
    "colors = ['red' if c<0 else 'blue' for c in coef[combine_coef]]\n",
    "plt.bar(np.arange(len(combine_coef)),coef[combine_coef],color=colors)\n",
    "ax.set_xticks(np.arange(len(combine_coef)))\n",
    "tmp=ax.set_xticklabels(feature_names[combine_coef],rotation=60,ha='right')\n",
    "plt.xlabel('top features')\n",
    "plt.ylabel('weights w$_i$')"
   ]
  },
  {
   "cell_type": "markdown",
   "metadata": {},
   "source": [
    "### 5-Fold Cross validation"
   ]
  },
  {
   "cell_type": "code",
   "execution_count": 95,
   "metadata": {},
   "outputs": [],
   "source": [
    "from sklearn.model_selection import StratifiedKFold"
   ]
  },
  {
   "cell_type": "code",
   "execution_count": 98,
   "metadata": {},
   "outputs": [],
   "source": [
    "def cross_validation(X,y):\n",
    "    '''\n",
    "    K-fold cross validation \n",
    "    '''\n",
    "    \n",
    "    kf = StratifiedKFold(n_splits=4,random_state=42)\n",
    "\n",
    "    for train_index, test_index in kf.split(X,y):\n",
    "        X_train, X_test = X[train_index], X[test_index]\n",
    "        y_train, y_test = y[train_index], y[test_index]\n",
    "        X_train_bow = tfidf.fit_transform(X_train)\n",
    "\n",
    "        lr = LogisticRegression(penalty='l2',C=1.0)\n",
    "        lr_model = lr.fit(X_train_bow, y_train)\n",
    "\n",
    "        X_test_bow = tfidf.transform(X_test)\n",
    "        y_test_pred_lin = lr_model.predict(X_test_bow)\n",
    "        precision, recall, fscore, support = precision_recall_fscore_support(y_test,y_test_pred_lin)\n",
    "        print(precision, recall, fscore, support)"
   ]
  },
  {
   "cell_type": "code",
   "execution_count": 99,
   "metadata": {},
   "outputs": [
    {
     "name": "stdout",
     "output_type": "stream",
     "text": [
      "[0.72727273 0.5       ] [0.97777778 0.05714286] [0.83412322 0.1025641 ] [90 35]\n",
      "[0.71544715 0.        ] [0.98876404 0.        ] [0.83018868 0.        ] [89 35]\n",
      "[0.72357724 1.        ] [1.         0.02857143] [0.83962264 0.05555556] [89 35]\n",
      "[0.71544715 0.        ] [0.98876404 0.        ] [0.83018868 0.        ] [89 35]\n"
     ]
    }
   ],
   "source": [
    "cross_validation(X,y)"
   ]
  },
  {
   "cell_type": "markdown",
   "metadata": {},
   "source": [
    "Large variation during cross validation!"
   ]
  },
  {
   "cell_type": "markdown",
   "metadata": {},
   "source": [
    "### Hyperparameter search"
   ]
  },
  {
   "cell_type": "code",
   "execution_count": 104,
   "metadata": {},
   "outputs": [],
   "source": [
    "# not fully implemented\n",
    "#parameters = {'C': [0.1, 1, 10, 100]}\n",
    "# grid = GridSearchCV(pipeline, param_grid=parameters, cv=5)\n",
    "# grid.fit(X_train,y_train)\n",
    "# grid.best_params_"
   ]
  },
  {
   "cell_type": "markdown",
   "metadata": {},
   "source": [
    "### Explore more sophisticated classifiers, e.g. support vector machines"
   ]
  },
  {
   "cell_type": "code",
   "execution_count": 105,
   "metadata": {},
   "outputs": [],
   "source": [
    "from sklearn.svm import LinearSVC"
   ]
  },
  {
   "cell_type": "code",
   "execution_count": 108,
   "metadata": {},
   "outputs": [],
   "source": [
    "svc = LinearSVC()"
   ]
  },
  {
   "cell_type": "code",
   "execution_count": 109,
   "metadata": {},
   "outputs": [],
   "source": [
    "svc_model =  svc.fit(X_train_bow,y_train)"
   ]
  },
  {
   "cell_type": "code",
   "execution_count": 110,
   "metadata": {},
   "outputs": [],
   "source": [
    "y_test_pred_svc = svc_model.predict(X_test_bow)"
   ]
  },
  {
   "cell_type": "code",
   "execution_count": 111,
   "metadata": {},
   "outputs": [
    {
     "name": "stdout",
     "output_type": "stream",
     "text": [
      "                     precision    recall  f1-score   support\n",
      "\n",
      "          No Merger       0.69      0.99      0.81       113\n",
      "Merger&Acquisitions       0.67      0.04      0.07        52\n",
      "\n",
      "        avg / total       0.68      0.69      0.58       165\n",
      "\n"
     ]
    }
   ],
   "source": [
    "print(classification_report(y_test,y_test_pred_lin,target_names=['No Merger','Merger&Acquisitions']))"
   ]
  },
  {
   "cell_type": "code",
   "execution_count": 112,
   "metadata": {},
   "outputs": [
    {
     "data": {
      "text/plain": [
       "Text(0, 0.5, 'weights w$_i$')"
      ]
     },
     "execution_count": 112,
     "metadata": {},
     "output_type": "execute_result"
    },
    {
     "data": {
      "image/png": "[encoded data removed]",
      "text/plain": [
       "<Figure size 576x576 with 1 Axes>"
      ]
     },
     "metadata": {
      "needs_background": "light"
     },
     "output_type": "display_data"
    }
   ],
   "source": [
    "plt.figure(figsize=[8,8])\n",
    "ax=plt.gca()\n",
    "top_features=10\n",
    "coef = svc_model.coef_[0,:].flatten()\n",
    "class1_coef = np.argsort(coef)[-top_features:]\n",
    "class2_coef = np.argsort(coef)[:top_features]\n",
    "combine_coef = np.hstack([class1_coef,class2_coef])\n",
    "colors = ['red' if c<0 else 'blue' for c in coef[combine_coef]]\n",
    "plt.bar(np.arange(len(combine_coef)),coef[combine_coef],color=colors)\n",
    "ax.set_xticks(np.arange(len(combine_coef)))\n",
    "tmp=ax.set_xticklabels(feature_names[combine_coef],rotation=60,ha='right')\n",
    "plt.xlabel('top features')\n",
    "plt.ylabel('weights w$_i$')"
   ]
  }
 ],
 "metadata": {
  "kernelspec": {
   "display_name": "ML Server Python",
   "language": "python",
   "name": "ml016n"
  },
  "language_info": {
   "codemirror_mode": {
    "name": "ipython",
    "version": 3
   },
   "file_extension": ".py",
   "mimetype": "text/x-python",
   "name": "python",
   "nbconvert_exporter": "python",
   "pygments_lexer": "ipython3",
   "version": "3.5.2"
  }
 },
 "nbformat": 4,
 "nbformat_minor": 2
}
