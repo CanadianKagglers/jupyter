{
 "cells": [
  {
   "cell_type": "code",
   "execution_count": 1,
   "metadata": {
    "collapsed": true
   },
   "outputs": [],
   "source": [
    "import pandas as pd "
   ]
  },
  {
   "cell_type": "code",
   "execution_count": 2,
   "metadata": {
    "scrolled": true
   },
   "outputs": [],
   "source": [
    "text = pd.read_csv(r'.\\data\\Mailing.txt',sep=';')"
   ]
  },
  {
   "cell_type": "code",
   "execution_count": 3,
   "metadata": {
    "scrolled": true
   },
   "outputs": [
    {
     "data": {
      "text/html": [
       "<div>\n",
       "<style>\n",
       "    .dataframe thead tr:only-child th {\n",
       "        text-align: right;\n",
       "    }\n",
       "\n",
       "    .dataframe thead th {\n",
       "        text-align: left;\n",
       "    }\n",
       "\n",
       "    .dataframe tbody tr th {\n",
       "        vertical-align: top;\n",
       "    }\n",
       "</style>\n",
       "<table border=\"1\" class=\"dataframe\">\n",
       "  <thead>\n",
       "    <tr style=\"text-align: right;\">\n",
       "      <th></th>\n",
       "      <th>TBS CONF Ott-90Elgin-2-2025 CONF SCT &lt;zzMTGRM190Elgin2D@tbs-sct.gc.ca&gt;</th>\n",
       "      <th>TBS CONF Ott-90Elgin-4-4386 CONF SCT &lt;zzMTGRM190Elgin4G@tbs-sct.gc.ca&gt;</th>\n",
       "      <th>Wilson-Boudreau, Sandra &lt;Sandra.Wilson-Boudreau@tbs-sct.gc.ca&gt;</th>\n",
       "      <th>Yung, Michael &lt;Michael.Yung@tbs-sct.gc.ca&gt;</th>\n",
       "      <th>Pelchat-Labelle, Laurence &lt;Laurence.Pelchat-Labelle@tbs-sct.gc.ca&gt;</th>\n",
       "      <th>Zhang, Lisong &lt;Lisong.Zhang@tbs-sct.gc.ca&gt;</th>\n",
       "      <th>Ward, Ian &lt;Ian.Ward@tbs-sct.gc.ca&gt;</th>\n",
       "      <th>Innes, Stefan &lt;Stefan.Innes@tbs-sct.gc.ca&gt;</th>\n",
       "      <th>Sajjad, Rabia &lt;Rabia.Sajjad@tbs-sct.gc.ca&gt;</th>\n",
       "      <th>O'Blenis, Craig &lt;Craig.OBlenis@tbs-sct.gc.ca&gt;</th>\n",
       "      <th>...</th>\n",
       "      <th>Malé, Charles &lt;Charles.Male@tbs-sct.gc.ca&gt;</th>\n",
       "      <th>Beck-MacNeil, Ross (STATCAN) &lt;ross.beck-macneil@canada.ca&gt;</th>\n",
       "      <th>Ng, Monique &lt;Monique.Ng@tbs-sct.gc.ca&gt;</th>\n",
       "      <th>O'Byrne, Byron &lt;Byron.OByrne@tbs-sct.gc.ca&gt;</th>\n",
       "      <th>Baran, Jessica &lt;Jessica.Baran@tbs-sct.gc.ca&gt;</th>\n",
       "      <th>Beck-MacNeil, Ross &lt;Ross.Beck-MacNeil@tbs-sct.gc.ca&gt;</th>\n",
       "      <th>Lee, Wan-Chen &lt;Wan-Chen.Lee@tbs-sct.gc.ca&gt;</th>\n",
       "      <th>Emily Kokkoros (Emily.Kokkoros@tbs-sct.gc.ca)</th>\n",
       "      <th>Minaeian, Sara &lt;Sara.Minaeian@tbs-sct.gc.ca&gt;</th>\n",
       "      <th>Sajjad, Rabia &lt;Rabia.Sajjad@tbs-sct.gc.ca&gt;\\</th>\n",
       "    </tr>\n",
       "  </thead>\n",
       "  <tbody>\n",
       "  </tbody>\n",
       "</table>\n",
       "<p>0 rows × 22 columns</p>\n",
       "</div>"
      ],
      "text/plain": [
       "Empty DataFrame\n",
       "Columns: [TBS CONF Ott-90Elgin-2-2025 CONF SCT <zzMTGRM190Elgin2D@tbs-sct.gc.ca>,  TBS CONF Ott-90Elgin-4-4386 CONF SCT <zzMTGRM190Elgin4G@tbs-sct.gc.ca>,  Wilson-Boudreau, Sandra <Sandra.Wilson-Boudreau@tbs-sct.gc.ca>,  Yung, Michael <Michael.Yung@tbs-sct.gc.ca>,  Pelchat-Labelle, Laurence <Laurence.Pelchat-Labelle@tbs-sct.gc.ca>,  Zhang, Lisong <Lisong.Zhang@tbs-sct.gc.ca>,  Ward, Ian <Ian.Ward@tbs-sct.gc.ca>,  Innes, Stefan <Stefan.Innes@tbs-sct.gc.ca>,  Sajjad, Rabia <Rabia.Sajjad@tbs-sct.gc.ca>,  O'Blenis, Craig <Craig.OBlenis@tbs-sct.gc.ca>,  Fortin, Youssef <Youssef.Fortin@tbs-sct.gc.ca>,  Muirhead, Mike <Mike.Muirhead@tbs-sct.gc.ca>,  Malé, Charles <Charles.Male@tbs-sct.gc.ca>,  Beck-MacNeil, Ross (STATCAN) <ross.beck-macneil@canada.ca>,  Ng, Monique <Monique.Ng@tbs-sct.gc.ca>,  O'Byrne, Byron <Byron.OByrne@tbs-sct.gc.ca>,  Baran, Jessica <Jessica.Baran@tbs-sct.gc.ca>,  Beck-MacNeil, Ross <Ross.Beck-MacNeil@tbs-sct.gc.ca>,  Lee, Wan-Chen <Wan-Chen.Lee@tbs-sct.gc.ca>,  Emily Kokkoros (Emily.Kokkoros@tbs-sct.gc.ca),  Minaeian, Sara <Sara.Minaeian@tbs-sct.gc.ca>,  Sajjad, Rabia <Rabia.Sajjad@tbs-sct.gc.ca>\\]\n",
       "Index: []\n",
       "\n",
       "[0 rows x 22 columns]"
      ]
     },
     "execution_count": 3,
     "metadata": {},
     "output_type": "execute_result"
    }
   ],
   "source": [
    "text"
   ]
  },
  {
   "cell_type": "code",
   "execution_count": 4,
   "metadata": {},
   "outputs": [
    {
     "data": {
      "text/plain": [
       "['TBS CONF Ott-90Elgin-2-2025 CONF SCT <zzMTGRM190Elgin2D@tbs-sct.gc.ca>',\n",
       " ' TBS CONF Ott-90Elgin-4-4386 CONF SCT <zzMTGRM190Elgin4G@tbs-sct.gc.ca>',\n",
       " ' Wilson-Boudreau, Sandra <Sandra.Wilson-Boudreau@tbs-sct.gc.ca>',\n",
       " ' Yung, Michael <Michael.Yung@tbs-sct.gc.ca>',\n",
       " ' Pelchat-Labelle, Laurence <Laurence.Pelchat-Labelle@tbs-sct.gc.ca>',\n",
       " ' Zhang, Lisong <Lisong.Zhang@tbs-sct.gc.ca>',\n",
       " ' Ward, Ian <Ian.Ward@tbs-sct.gc.ca>',\n",
       " ' Innes, Stefan <Stefan.Innes@tbs-sct.gc.ca>',\n",
       " ' Sajjad, Rabia <Rabia.Sajjad@tbs-sct.gc.ca>',\n",
       " \" O'Blenis, Craig <Craig.OBlenis@tbs-sct.gc.ca>\",\n",
       " ' Fortin, Youssef <Youssef.Fortin@tbs-sct.gc.ca>',\n",
       " ' Muirhead, Mike <Mike.Muirhead@tbs-sct.gc.ca>',\n",
       " ' Mal\\xc3\\xa9, Charles <Charles.Male@tbs-sct.gc.ca>',\n",
       " ' Beck-MacNeil, Ross (STATCAN) <ross.beck-macneil@canada.ca>',\n",
       " ' Ng, Monique <Monique.Ng@tbs-sct.gc.ca>',\n",
       " \" O'Byrne, Byron <Byron.OByrne@tbs-sct.gc.ca>\",\n",
       " ' Baran, Jessica <Jessica.Baran@tbs-sct.gc.ca>',\n",
       " ' Beck-MacNeil, Ross <Ross.Beck-MacNeil@tbs-sct.gc.ca>',\n",
       " ' Lee, Wan-Chen <Wan-Chen.Lee@tbs-sct.gc.ca>',\n",
       " ' Emily Kokkoros (Emily.Kokkoros@tbs-sct.gc.ca)',\n",
       " ' Minaeian, Sara <Sara.Minaeian@tbs-sct.gc.ca>',\n",
       " ' Sajjad, Rabia <Rabia.Sajjad@tbs-sct.gc.ca>\\\\']"
      ]
     },
     "execution_count": 4,
     "metadata": {},
     "output_type": "execute_result"
    }
   ],
   "source": [
    "information = list(text.columns)\n",
    "df = pd.DataFrame()\n",
    "information"
   ]
  },
  {
   "cell_type": "code",
   "execution_count": 5,
   "metadata": {},
   "outputs": [
    {
     "data": {
      "text/html": [
       "<div>\n",
       "<style>\n",
       "    .dataframe thead tr:only-child th {\n",
       "        text-align: right;\n",
       "    }\n",
       "\n",
       "    .dataframe thead th {\n",
       "        text-align: left;\n",
       "    }\n",
       "\n",
       "    .dataframe tbody tr th {\n",
       "        vertical-align: top;\n",
       "    }\n",
       "</style>\n",
       "<table border=\"1\" class=\"dataframe\">\n",
       "  <thead>\n",
       "    <tr style=\"text-align: right;\">\n",
       "      <th></th>\n",
       "      <th>Text</th>\n",
       "    </tr>\n",
       "  </thead>\n",
       "  <tbody>\n",
       "    <tr>\n",
       "      <th>0</th>\n",
       "      <td>TBS CONF Ott-90Elgin-2-2025 CONF SCT &lt;zzMTGRM1...</td>\n",
       "    </tr>\n",
       "  </tbody>\n",
       "</table>\n",
       "</div>"
      ],
      "text/plain": [
       "                                                Text\n",
       "0  TBS CONF Ott-90Elgin-2-2025 CONF SCT <zzMTGRM1..."
      ]
     },
     "execution_count": 5,
     "metadata": {},
     "output_type": "execute_result"
    }
   ],
   "source": [
    "df = pd.DataFrame({\"Text\":information})\n",
    "df.head(1)"
   ]
  },
  {
   "cell_type": "code",
   "execution_count": 6,
   "metadata": {},
   "outputs": [
    {
     "data": {
      "text/plain": [
       "Text     TBS CONF Ott-90Elgin-4-4386 CONF SCT <zzMTGRM...\n",
       "Name: 1, dtype: object"
      ]
     },
     "execution_count": 6,
     "metadata": {},
     "output_type": "execute_result"
    }
   ],
   "source": [
    "df.loc[1]"
   ]
  },
  {
   "cell_type": "code",
   "execution_count": 7,
   "metadata": {},
   "outputs": [],
   "source": [
    "df['fname'] = df['Text'].str.split('<').str[0]\n",
    "df['first'] = df['fname'].str.split(',').str[0]\n",
    "df['last'] =df['fname'].str.split(',').str[1]\n",
    "df['email']= df['Text'].str.split('<').str[1]\n",
    "df['email']=df['email'].str.replace('>','')"
   ]
  },
  {
   "cell_type": "code",
   "execution_count": 9,
   "metadata": {
    "collapsed": true
   },
   "outputs": [],
   "source": [
    "df.to_csv('./data/mailing_list.csv')"
   ]
  }
 ],
 "metadata": {
  "kernelspec": {
   "display_name": "Python [default]",
   "language": "python",
   "name": "python2"
  },
  "language_info": {
   "codemirror_mode": {
    "name": "ipython",
    "version": 2
   },
   "file_extension": ".py",
   "mimetype": "text/x-python",
   "name": "python",
   "nbconvert_exporter": "python",
   "pygments_lexer": "ipython2",
   "version": "2.7.13"
  }
 },
 "nbformat": 4,
 "nbformat_minor": 2
}
